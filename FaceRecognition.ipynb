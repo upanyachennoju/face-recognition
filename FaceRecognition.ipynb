{
  "nbformat": 4,
  "nbformat_minor": 0,
  "metadata": {
    "colab": {
      "provenance": []
    },
    "kernelspec": {
      "name": "python3",
      "display_name": "Python 3"
    },
    "language_info": {
      "name": "python"
    }
  },
  "cells": [
    {
      "cell_type": "markdown",
      "source": [
        "#Machine Learning Model: Facial Recognition\n",
        "This notebook demonstrates face recognition using Principal Component Analysis (PCA) and a Support Vector Machine (SVM). We will use the Labeled Faces in the Wild (LFW) dataset."
      ],
      "metadata": {
        "id": "b2qeVeb7WHa7"
      }
    },
    {
      "cell_type": "markdown",
      "source": [
        "##Import all the necessary libraries\n",
        "We import the necessary Python libraries for data handling, visualization, and machine learning."
      ],
      "metadata": {
        "id": "kG06dHoaWQT5"
      }
    },
    {
      "cell_type": "code",
      "source": [
        "import numpy as np\n",
        "import pandas as pd\n",
        "import matplotlib.pyplot as plt\n",
        "import seaborn as sns"
      ],
      "metadata": {
        "id": "Zc4SUyPWXBgV"
      },
      "execution_count": 2,
      "outputs": []
    },
    {
      "cell_type": "markdown",
      "source": [
        "##Load the dataset\n",
        "We use `fetch_lfw_people` from `sklearn.datasets` to load the Labeled Faces in the Wild (LFW) dataset, which consists of images of faces with labels."
      ],
      "metadata": {
        "id": "o9j1Ijia2zSt"
      }
    },
    {
      "cell_type": "code",
      "execution_count": null,
      "metadata": {
        "id": "pTx2lk4dWKvg"
      },
      "outputs": [],
      "source": [
        "from sklearn.datasets import fetch_lfw_people\n",
        "faces = fetch_lfw_people(min_faces_per_person=50,download_if_missing=True)"
      ]
    },
    {
      "cell_type": "markdown",
      "source": [
        "## Explore the Dataset\n",
        "Let's examine the dataset shape and visualize some sample images."
      ],
      "metadata": {
        "id": "oWjDLRsc26TK"
      }
    },
    {
      "cell_type": "code",
      "source": [
        "faces.data.shape"
      ],
      "metadata": {
        "id": "xXhNl6zeWNFq"
      },
      "execution_count": null,
      "outputs": []
    },
    {
      "cell_type": "code",
      "source": [
        "faces.images[9].shape"
      ],
      "metadata": {
        "id": "kGi45K91Whzx"
      },
      "execution_count": null,
      "outputs": []
    },
    {
      "cell_type": "code",
      "source": [
        "faces.target_names"
      ],
      "metadata": {
        "id": "kqBmDQEQWmRK"
      },
      "execution_count": null,
      "outputs": []
    },
    {
      "cell_type": "code",
      "source": [
        "faces.target_names.size"
      ],
      "metadata": {
        "id": "e7zC839TWz0k"
      },
      "execution_count": null,
      "outputs": []
    },
    {
      "cell_type": "code",
      "source": [
        "np.unique(faces.target)"
      ],
      "metadata": {
        "id": "zqZ9wdqBW3hA"
      },
      "execution_count": null,
      "outputs": []
    },
    {
      "cell_type": "code",
      "source": [
        "faces.target_names[0]"
      ],
      "metadata": {
        "id": "W3XBXA1EW8Py"
      },
      "execution_count": null,
      "outputs": []
    },
    {
      "cell_type": "code",
      "source": [
        "plt.imshow(faces.images[0])"
      ],
      "metadata": {
        "id": "RbkVtRF8XR16"
      },
      "execution_count": null,
      "outputs": []
    },
    {
      "cell_type": "code",
      "source": [
        "fig, ax = plt.subplots(2,4)\n",
        "for idx, axidx in enumerate(ax.flat):\n",
        "  axidx.imshow(faces.images[idx], cmap='bone')\n",
        "  axidx.set(xticks=[], yticks=[], xlabel=faces.target_names[faces.target[idx]])"
      ],
      "metadata": {
        "id": "1KD0xGQEXYqf"
      },
      "execution_count": null,
      "outputs": []
    },
    {
      "cell_type": "markdown",
      "source": [
        "## 4. Preprocess the Data\n",
        "We apply Principal Component Analysis (PCA) to reduce dimensionality while retaining important features."
      ],
      "metadata": {
        "id": "Y5GbI4O-3U8f"
      }
    },
    {
      "cell_type": "code",
      "source": [
        "from sklearn.svm import SVC\n",
        "from sklearn.decomposition import PCA\n",
        "from sklearn.pipeline import make_pipeline"
      ],
      "metadata": {
        "id": "gysNo4qxYDD1"
      },
      "execution_count": null,
      "outputs": []
    },
    {
      "cell_type": "code",
      "source": [
        "# Apply Principal Component Analysis (PCA) for dimensionality reduction\n",
        "pcaMod = PCA(n_components=150,whiten=True)\n",
        "# Train a Support Vector Classifier (SVC) for face recognition\n",
        "svmMod = SVC(kernel='rbf', class_weight='balanced')\n",
        "mdl = make_pipeline(pcaMod, svmMod)"
      ],
      "metadata": {
        "id": "RnvKEl0qb-1H"
      },
      "execution_count": null,
      "outputs": []
    },
    {
      "cell_type": "markdown",
      "source": [
        "##Train a Machine Learning Model\n",
        "We train a Support Vector Machine (SVM) classifier on the dataset to recognize faces."
      ],
      "metadata": {
        "id": "hhJiWN3D3oYQ"
      }
    },
    {
      "cell_type": "markdown",
      "source": [
        "###Split the dataset into training and testing sets"
      ],
      "metadata": {
        "id": "pXgUUHIn4vxf"
      }
    },
    {
      "cell_type": "code",
      "source": [
        "from sklearn.model_selection import train_test_split\n",
        "X_train, X_test, y_train, y_test = train_test_split(faces.data, faces.target, test_size=0.2)"
      ],
      "metadata": {
        "id": "GNbG6XWlcZxI"
      },
      "execution_count": null,
      "outputs": []
    },
    {
      "cell_type": "markdown",
      "source": [
        "###Perform hyperparameter tuning using GridSearchCV"
      ],
      "metadata": {
        "id": "uBhFnGdA425-"
      }
    },
    {
      "cell_type": "code",
      "source": [
        "from sklearn.model_selection import GridSearchCV\n",
        "param_grid = {'svc__C':[1,5,15,30], 'svc__gamma':[0.00001,0.00005,0.0001,0.005]}\n",
        "grid = GridSearchCV(mdl, param_grid)"
      ],
      "metadata": {
        "id": "aiiyp1yCcnI-"
      },
      "execution_count": null,
      "outputs": []
    },
    {
      "cell_type": "code",
      "source": [
        "grid.fit(X_train,y_train)"
      ],
      "metadata": {
        "id": "rux0nt2-eT_N"
      },
      "execution_count": null,
      "outputs": []
    },
    {
      "cell_type": "code",
      "source": [
        "print(grid.best_params_) #Display the best parameters found"
      ],
      "metadata": {
        "id": "k9jTYw59tnY8"
      },
      "execution_count": null,
      "outputs": []
    },
    {
      "cell_type": "code",
      "source": [
        "mdl = grid.best_estimator_"
      ],
      "metadata": {
        "id": "sMcmN2Wjt2HR"
      },
      "execution_count": null,
      "outputs": []
    },
    {
      "cell_type": "markdown",
      "source": [
        "###Make predictions on the test set"
      ],
      "metadata": {
        "id": "CaVUcHiL5QPU"
      }
    },
    {
      "cell_type": "code",
      "source": [
        "y_pred = mdl.predict(X_test)"
      ],
      "metadata": {
        "id": "jsgX7p3euKuJ"
      },
      "execution_count": null,
      "outputs": []
    },
    {
      "cell_type": "code",
      "source": [
        "y_test"
      ],
      "metadata": {
        "id": "NK_xLt_JuPVQ"
      },
      "execution_count": null,
      "outputs": []
    },
    {
      "cell_type": "code",
      "source": [
        "y_pred"
      ],
      "metadata": {
        "id": "JoAsyvn8uQtR"
      },
      "execution_count": null,
      "outputs": []
    },
    {
      "cell_type": "markdown",
      "source": [
        "###Visualize predictions"
      ],
      "metadata": {
        "id": "HCs6EgCi5bql"
      }
    },
    {
      "cell_type": "code",
      "source": [
        "fig, ax = plt.subplots(5, 7)\n",
        "for idx, axidx in enumerate(ax.flat):\n",
        "  axidx.imshow(X_test[idx].reshape(62,47), cmap='bone')\n",
        "  axidx.set(xticks=[],yticks=[])\n",
        "  axidx.set_ylabel(faces.target_names[y_pred[idx]].split()[-1], color='green' if y_pred[idx]==y_test[idx] else 'red')\n",
        "  fig.suptitle('Wrong are in red', size=16)\n"
      ],
      "metadata": {
        "id": "QSlnNZQ-uSbh"
      },
      "execution_count": null,
      "outputs": []
    },
    {
      "cell_type": "markdown",
      "source": [
        "##Evaluate model performance using classification report"
      ],
      "metadata": {
        "id": "2wSRbW9D5gjm"
      }
    },
    {
      "cell_type": "code",
      "source": [
        "from sklearn.metrics import classification_report"
      ],
      "metadata": {
        "id": "pNr6sIF-1_Vc"
      },
      "execution_count": null,
      "outputs": []
    },
    {
      "cell_type": "code",
      "source": [
        "print(classification_report(y_test, y_pred, target_names=faces.target_names))"
      ],
      "metadata": {
        "id": "wMCvMm-W3Fj1"
      },
      "execution_count": null,
      "outputs": []
    },
    {
      "cell_type": "markdown",
      "source": [
        "##Plot confusion matrix"
      ],
      "metadata": {
        "id": "ZPFHaeUn57Pa"
      }
    },
    {
      "cell_type": "code",
      "source": [
        "from sklearn.metrics import confusion_matrix\n",
        "mat = confusion_matrix(y_test, y_pred)\n",
        "sns.heatmap(mat.T, square=True, fmt='d', cbar=False, xticklabels=faces.target_names, yticklabels=faces.target_names)\n",
        "plt.xlabel(\"True label\")\n",
        "plt.ylabel(\"Predicted label\")\n",
        "plt.show()"
      ],
      "metadata": {
        "id": "U78YS2nt3PKr"
      },
      "execution_count": null,
      "outputs": []
    }
  ]
}